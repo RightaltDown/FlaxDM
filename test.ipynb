{
 "cells": [
  {
   "cell_type": "code",
   "execution_count": 32,
   "metadata": {},
   "outputs": [],
   "source": [
    "import equinox as eqx\n",
    "import jax\n",
    "import flax\n",
    "import jax.random as jr\n",
    "import jax.numpy as jnp\n",
    "import flax.linen as nn"
   ]
  },
  {
   "cell_type": "code",
   "execution_count": null,
   "metadata": {},
   "outputs": [],
   "source": [
    "# Original issue\n",
    "# self.conv_in = nn.Conv(\n",
    "#             features=self.hidden_size,\n",
    "#             kernel_size=(self.patch_size, self.patch_size),\n",
    "#             strides=(self.patch_size, self.patch_size),\n",
    "#             padding=\"VALID\",\n",
    "#             name=\"conv_in\"\n",
    "#         )\n",
    "# outputs (0, 7, 64)"
   ]
  },
  {
   "cell_type": "code",
   "execution_count": 33,
   "metadata": {},
   "outputs": [],
   "source": [
    "# conv inputs: [('img_size', (1, 28, 28)), ('patch_size', 4), ('hidden_size', 64), ('mix_patch_size', 512), ('mix_hidden_size', 512), ('num_blocks', 4)]\n",
    "input_size = 1\n",
    "hidden_size = 64\n",
    "patch_size = 4\n",
    "x = jnp.ones((2,28,28))"
   ]
  },
  {
   "cell_type": "code",
   "execution_count": 47,
   "metadata": {},
   "outputs": [],
   "source": [
    "eqx_conv = eqx.nn.Conv2d(\n",
    "            input_size + 1, hidden_size, patch_size, stride=patch_size, key=jax.random.key(0)\n",
    "        )\n",
    "flx_conv = nn.Conv(\n",
    "            features=hidden_size,\n",
    "            kernel_size=(patch_size,patch_size),\n",
    "            strides=(patch_size,patch_size),\n",
    "            padding='Valid',\n",
    "            name=\"conv2d_in\"\n",
    "        )\n",
    "\n"
   ]
  },
  {
   "cell_type": "code",
   "execution_count": 48,
   "metadata": {},
   "outputs": [
    {
     "name": "stdout",
     "output_type": "stream",
     "text": [
      "(64, 7, 7)\n",
      "(64, 7, 7)\n",
      "[1.9690645 1.9690645 1.9690645 1.9690645 1.9690645 1.9690645 1.9690645]\n",
      "[-0.01366585 -0.01366585 -0.01366585 -0.01366585 -0.01366585 -0.01366585\n",
      " -0.01366585]\n"
     ]
    }
   ],
   "source": [
    "y1 = eqx_conv(x)\n",
    "variables = flx_conv.init(jr.key(0), jnp.ones((28,28,2)))\n",
    "y2 = flx_conv.apply(variables, jnp.ones((28,28,2)))\n",
    "y2 = jnp.transpose(y2)\n",
    "\n",
    "print(y1.shape)\n",
    "print(y2.shape)\n",
    "\n",
    "print(y2[0][0])\n",
    "print(y1[0][0])\n"
   ]
  }
 ],
 "metadata": {
  "kernelspec": {
   "display_name": "flaxDM",
   "language": "python",
   "name": "python3"
  },
  "language_info": {
   "codemirror_mode": {
    "name": "ipython",
    "version": 3
   },
   "file_extension": ".py",
   "mimetype": "text/x-python",
   "name": "python",
   "nbconvert_exporter": "python",
   "pygments_lexer": "ipython3",
   "version": "3.10.16"
  }
 },
 "nbformat": 4,
 "nbformat_minor": 2
}
